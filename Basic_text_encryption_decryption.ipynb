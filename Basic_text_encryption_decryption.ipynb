{
  "nbformat": 4,
  "nbformat_minor": 0,
  "metadata": {
    "colab": {
      "name": "Basic_encryption_decryption.ipynb",
      "provenance": [],
      "collapsed_sections": [],
      "include_colab_link": true
    },
    "kernelspec": {
      "name": "python3",
      "display_name": "Python 3"
    }
  },
  "cells": [
    {
      "cell_type": "markdown",
      "metadata": {
        "id": "view-in-github",
        "colab_type": "text"
      },
      "source": [
        "<a href=\"https://colab.research.google.com/github/bbpatil/2021-Python-Projects-Collection/blob/main/Basic_text_encryption_decryption.ipynb\" target=\"_parent\"><img src=\"https://colab.research.google.com/assets/colab-badge.svg\" alt=\"Open In Colab\"/></a>"
      ]
    },
    {
      "cell_type": "markdown",
      "metadata": {
        "id": "BVMaAvoIV5BI"
      },
      "source": [
        "Message encryption - decryption"
      ]
    },
    {
      "cell_type": "code",
      "metadata": {
        "id": "TVLWdSw3VHRd"
      },
      "source": [
        "msg = \"This is a message!\"\n",
        "key =8"
      ],
      "execution_count": 4,
      "outputs": []
    },
    {
      "cell_type": "code",
      "metadata": {
        "id": "ATPPIIIuJ1cw"
      },
      "source": [
        "def encrypt(msg,key):\n",
        "  chars = list(msg)\n",
        "  text=''\n",
        "  for c in chars:\n",
        "    text +=chr(ord(c)+key)\n",
        "  return text"
      ],
      "execution_count": 1,
      "outputs": []
    },
    {
      "cell_type": "code",
      "metadata": {
        "id": "wUwyCroL6Uvf"
      },
      "source": [
        "def decrypt(msg,key):\n",
        "  chars = list(msg)\n",
        "  text=''\n",
        "  for c in chars:\n",
        "    text +=chr(ord(c)-key)\n",
        "  return text"
      ],
      "execution_count": 2,
      "outputs": []
    },
    {
      "cell_type": "code",
      "metadata": {
        "id": "nKzc03n2-Eac",
        "outputId": "da3613e9-ca6d-4f2c-af87-bfa1a5e27db0",
        "colab": {
          "base_uri": "https://localhost:8080/"
        }
      },
      "source": [
        "print(\"Original message: \"+msg)\n",
        "print(\"Encrypted message: \"+encrypt(msg,key))\n",
        "e_msg =encrypt(msg,key) \n",
        "print(\"Decrypted message: \"+ decrypt(e_msg,key) )"
      ],
      "execution_count": 5,
      "outputs": [
        {
          "output_type": "stream",
          "name": "stdout",
          "text": [
            "Original message: This is a message!\n",
            "Encrypted message: \\pq{(q{(i(um{{iom)\n",
            "Decrypted message: This is a message!\n"
          ]
        }
      ]
    }
  ]
}